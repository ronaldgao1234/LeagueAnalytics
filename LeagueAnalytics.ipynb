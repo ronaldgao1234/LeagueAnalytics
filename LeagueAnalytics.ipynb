{
 "cells": [
  {
   "cell_type": "code",
   "execution_count": 2,
   "metadata": {},
   "outputs": [],
   "source": [
    "import pandas as pd"
   ]
  },
  {
   "cell_type": "code",
   "execution_count": 3,
   "metadata": {},
   "outputs": [],
   "source": [
    "data = pd.read_excel('2020-spring-matches.xlsx')\n",
    "\n",
    "na_data = data[data['league'] == 'LCS']"
   ]
  },
  {
   "cell_type": "code",
   "execution_count": 4,
   "metadata": {},
   "outputs": [],
   "source": [
    "na_data = na_data.drop(['gameid', 'url', 'league', 'split', 'date', 'week', 'game', 'ban1', 'ban2', 'ban3', 'ban4', 'ban5', 'doubles', 'triples'], axis=1)"
   ]
  },
  {
   "cell_type": "code",
   "execution_count": 5,
   "metadata": {},
   "outputs": [
    {
     "data": {
      "text/plain": [
       "Index(['patchno', 'playerid', 'side', 'position', 'player', 'team', 'champion',\n",
       "       'gamelength', 'result', 'k', 'd', 'a', 'teamkills', 'teamdeaths',\n",
       "       'quadras', 'pentas', 'fb', 'fbassist', 'fbvictim', 'fbtime', 'kpm',\n",
       "       'okpm', 'ckpm', 'fd', 'fdtime', 'teamdragkills', 'oppdragkills',\n",
       "       'elementals', 'oppelementals', 'firedrakes', 'waterdrakes',\n",
       "       'earthdrakes', 'airdrakes', 'elders', 'oppelders', 'heraldkills',\n",
       "       'oppheraldkills', 'ft', 'fttime', 'firstmidouter', 'firsttothreetowers',\n",
       "       'teamtowerkills', 'opptowerkills', 'fbaron', 'fbarontime',\n",
       "       'teambaronkills', 'oppbaronkills', 'dmgtochamps',\n",
       "       'dmgtochampsperminute', 'dmgshare', 'earnedgoldshare', 'wards', 'wpm',\n",
       "       'wardshare', 'wardkills', 'wcpm', 'visionwards', 'visionwardbuys',\n",
       "       'visiblewardclearrate', 'invisiblewardclearrate', 'totalgold',\n",
       "       'earnedgpm', 'goldspent', 'gspd', 'minionkills', 'monsterkills',\n",
       "       'monsterkillsownjungle', 'monsterkillsenemyjungle', 'cspm', 'goldat10',\n",
       "       'oppgoldat10', 'gdat10', 'goldat15', 'oppgoldat15', 'gdat15', 'xpat10',\n",
       "       'oppxpat10', 'xpdat10', 'csat10', 'oppcsat10', 'csdat10', 'csat15',\n",
       "       'oppcsat15', 'csdat15'],\n",
       "      dtype='object')"
      ]
     },
     "execution_count": 5,
     "metadata": {},
     "output_type": "execute_result"
    }
   ],
   "source": [
    "na_data.columns"
   ]
  },
  {
   "cell_type": "code",
   "execution_count": 6,
   "metadata": {},
   "outputs": [
    {
     "data": {
      "text/plain": [
       "540     0.122117\n",
       "541     0.040706\n",
       "542     0.162822\n",
       "543     0.040706\n",
       "544     0.000000\n",
       "          ...   \n",
       "1687    0.049221\n",
       "1688    0.123052\n",
       "1689    0.000000\n",
       "1690    0.221493\n",
       "1691    0.196883\n",
       "Name: kpm, Length: 360, dtype: float64"
      ]
     },
     "execution_count": 6,
     "metadata": {},
     "output_type": "execute_result"
    }
   ],
   "source": [
    "na_data['kpm']"
   ]
  },
  {
   "cell_type": "markdown",
   "metadata": {},
   "source": [
    "### Team Liquid"
   ]
  },
  {
   "cell_type": "code",
   "execution_count": null,
   "metadata": {},
   "outputs": [],
   "source": []
  },
  {
   "cell_type": "markdown",
   "metadata": {},
   "source": [
    "### TSM"
   ]
  },
  {
   "cell_type": "code",
   "execution_count": null,
   "metadata": {},
   "outputs": [],
   "source": []
  }
 ],
 "metadata": {
  "kernelspec": {
   "display_name": "Python 3",
   "language": "python",
   "name": "python3"
  },
  "language_info": {
   "codemirror_mode": {
    "name": "ipython",
    "version": 3
   },
   "file_extension": ".py",
   "mimetype": "text/x-python",
   "name": "python",
   "nbconvert_exporter": "python",
   "pygments_lexer": "ipython3",
   "version": "3.7.3"
  }
 },
 "nbformat": 4,
 "nbformat_minor": 4
}
