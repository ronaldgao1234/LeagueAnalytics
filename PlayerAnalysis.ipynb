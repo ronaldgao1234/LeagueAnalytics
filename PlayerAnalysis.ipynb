{
 "cells": [
  {
   "cell_type": "markdown",
   "metadata": {},
   "source": [
    "## LCS Player Analysis\n",
    "\n",
    "### Stats to look into for every player\n",
    "- This split's VODS:\n",
    "    - Their positioning tendencies\n",
    "    - Thier warding patterns\n",
    "    - Rewatch TL Kay's videos again to see what to get\n",
    "    - Thier picks\n",
    "    - Rewatch some analysis videos\n",
    "    \n",
    "- Overall    \n",
    "    - Stats that he provided vs other players (worlds, lcs, etc.)\n",
    "        - Averages for everything + graphs\n",
    "        "
   ]
  },
  {
   "cell_type": "code",
   "execution_count": 1,
   "metadata": {},
   "outputs": [],
   "source": [
    "import pandas as pd"
   ]
  },
  {
   "cell_type": "markdown",
   "metadata": {},
   "source": [
    "### Importing data"
   ]
  },
  {
   "cell_type": "code",
   "execution_count": 25,
   "metadata": {},
   "outputs": [],
   "source": [
    "spring2020 = pd.read_excel('./data/2020/2020-spring-match-data.xlsx')  # February 17\n",
    "\n",
    "spring2019 = pd.read_excel('./data/2019/2019-spring-match-data.xlsx')\n",
    "summer2019 = pd.read_excel('./data/2019/2019-summer-match-data.xlsx')\n",
    "worlds2019 = pd.read_excel('./data/2019/2019-worlds-match-data.xlsx')\n",
    "\n",
    "spring2018 = pd.read_excel('./data/2018/2018-spring-match-data.xlsx')\n",
    "summer2018 = pd.read_excel('./data/2018/2018-summer-match-data.xlsx')\n",
    "worlds2018 = pd.read_excel('./data/2018/2018-worlds-match-data.xlsx')"
   ]
  },
  {
   "cell_type": "code",
   "execution_count": 50,
   "metadata": {},
   "outputs": [],
   "source": [
    "# Aggregate into one giant file\n",
    "data = spring2020\n",
    "excel_files = [spring2019, summer2019, worlds2019, spring2018, summer2018, worlds2018]\n",
    "for e in excel_files:\n",
    "    data = data.append(e,sort=False)"
   ]
  },
  {
   "cell_type": "code",
   "execution_count": 51,
   "metadata": {},
   "outputs": [
    {
     "data": {
      "text/plain": [
       "62892"
      ]
     },
     "execution_count": 51,
     "metadata": {},
     "output_type": "execute_result"
    }
   ],
   "source": [
    "len(data)"
   ]
  },
  {
   "cell_type": "markdown",
   "metadata": {},
   "source": [
    "### Stats that I will look into for every player"
   ]
  },
  {
   "cell_type": "markdown",
   "metadata": {},
   "source": [
    "### Team Liquid"
   ]
  },
  {
   "cell_type": "markdown",
   "metadata": {},
   "source": [
    "#### Doublelift"
   ]
  },
  {
   "cell_type": "code",
   "execution_count": 62,
   "metadata": {},
   "outputs": [],
   "source": [
    "doublelift = data[data.player == 'Doublelift']"
   ]
  },
  {
   "cell_type": "code",
   "execution_count": 61,
   "metadata": {},
   "outputs": [
    {
     "data": {
      "text/plain": [
       "LCS      62\n",
       "NALCS    55\n",
       "MSI      31\n",
       "WC       12\n",
       "Name: league, dtype: int64"
      ]
     },
     "execution_count": 61,
     "metadata": {},
     "output_type": "execute_result"
    }
   ],
   "source": [
    "doublelift.league.value_counts()"
   ]
  },
  {
   "cell_type": "code",
   "execution_count": null,
   "metadata": {},
   "outputs": [],
   "source": []
  }
 ],
 "metadata": {
  "kernelspec": {
   "display_name": "Python 3",
   "language": "python",
   "name": "python3"
  },
  "language_info": {
   "codemirror_mode": {
    "name": "ipython",
    "version": 3
   },
   "file_extension": ".py",
   "mimetype": "text/x-python",
   "name": "python",
   "nbconvert_exporter": "python",
   "pygments_lexer": "ipython3",
   "version": "3.7.3"
  }
 },
 "nbformat": 4,
 "nbformat_minor": 4
}
